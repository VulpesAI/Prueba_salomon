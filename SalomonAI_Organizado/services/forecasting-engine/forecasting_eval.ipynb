{
 "cells": [
  {
   "cell_type": "markdown",
   "metadata": {},
   "source": [
    "# Forecasting Evaluation Notebook",
    "\n",
    "Esta libreta permite ejecutar evaluaciones manuales sobre el servicio de pronósticos de SalomónAI. Configura las credenciales de Supabase y la URL de la base de datos antes de ejecutar las celdas de ejemplo."
   ]
  },
  {
   "cell_type": "markdown",
   "metadata": {},
   "source": [
    "## Preparación del entorno",
    "\n",
    "Asegúrate de definir las variables de entorno `FORECASTING_DATABASE_URL`, `FORECASTING_SUPABASE_URL` y `FORECASTING_SUPABASE_KEY`."
   ]
  },
  {
   "cell_type": "code",
   "execution_count": null,
   "metadata": {},
   "outputs": [],
   "source": [
    "from datetime import datetime",
    "\n",
    "from app.config import get_settings",
    "from app.database import create_db_engine",
    "from app.forecasting import ForecastingEngine",
    "\n",
    "settings = get_settings()",
    "engine = ForecastingEngine(create_db_engine(), settings=settings)",
    "result = engine.evaluate_user(\"<USER_ID>\", model_preference=\"auto\")",
    "result"
   ]
  }
 ],
 "metadata": {
  "kernelspec": {
   "display_name": "Python 3",
   "language": "python",
   "name": "python3"
  },
  "language_info": {
   "name": "python",
   "version": "3.11"
  }
 },
 "nbformat": 4,
 "nbformat_minor": 5
}
